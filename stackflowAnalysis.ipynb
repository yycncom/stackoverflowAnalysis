{
 "cells": [
  {
   "cell_type": "code",
   "execution_count": 1,
   "metadata": {},
   "outputs": [],
   "source": [
    "import numpy as np\n",
    "import pandas as pd\n",
    "from sklearn.feature_selection import mutual_info_classif\n",
    "from sklearn.compose import ColumnTransformer, make_column_transformer\n",
    "from sklearn.preprocessing import LabelEncoder, OneHotEncoder, OrdinalEncoder, StandardScaler, Normalizer\n",
    "from sklearn.impute import SimpleImputer\n",
    "\n",
    "from sklearn.model_selection import train_test_split, GridSearchCV\n",
    "from sklearn.base import BaseEstimator, TransformerMixin\n",
    "from sklearn.pipeline import Pipeline, FeatureUnion, make_pipeline\n",
    "from sklearn.ensemble import RandomForestClassifier\n",
    "from sklearn.linear_model import LinearRegression\n",
    "from sklearn.svm import SVC\n",
    "from sklearn.metrics import confusion_matrix, balanced_accuracy_score, matthews_corrcoef\n",
    "\n",
    "import lightgbm as lgb\n",
    "import xgboost as xgb\n",
    "\n",
    "import matplotlib.pyplot as plt\n",
    "import seaborn as sns"
   ]
  },
  {
   "cell_type": "code",
   "execution_count": 37,
   "metadata": {},
   "outputs": [],
   "source": [
    "df_public = pd.read_csv('survey_results_public.csv')"
   ]
  },
  {
   "cell_type": "code",
   "execution_count": 38,
   "metadata": {},
   "outputs": [],
   "source": [
    "df_schema = pd.read_csv('survey_results_schema.csv')"
   ]
  },
  {
   "cell_type": "markdown",
   "metadata": {},
   "source": [
    "### EDA "
   ]
  },
  {
   "cell_type": "code",
   "execution_count": null,
   "metadata": {
    "scrolled": true
   },
   "outputs": [],
   "source": [
    "df_public.head()"
   ]
  },
  {
   "cell_type": "code",
   "execution_count": null,
   "metadata": {},
   "outputs": [],
   "source": [
    "df_public.describe()"
   ]
  },
  {
   "cell_type": "code",
   "execution_count": null,
   "metadata": {},
   "outputs": [],
   "source": [
    "df_public.dtype"
   ]
  },
  {
   "cell_type": "code",
   "execution_count": 40,
   "metadata": {},
   "outputs": [
    {
     "data": {
      "text/plain": [
       "array(['For how many years have you coded as part of your job?'],\n",
       "      dtype=object)"
      ]
     },
     "execution_count": 40,
     "metadata": {},
     "output_type": "execute_result"
    }
   ],
   "source": [
    "df_schema[df_schema.Column == 'YearsCodedJob']['Question'].values"
   ]
  },
  {
   "cell_type": "code",
   "execution_count": 41,
   "metadata": {},
   "outputs": [],
   "source": [
    "df_proDevel = df_public[df_public.Professional == 'Professional developer']"
   ]
  },
  {
   "cell_type": "code",
   "execution_count": 42,
   "metadata": {},
   "outputs": [
    {
     "data": {
      "text/plain": [
       "(36131, 154)"
      ]
     },
     "execution_count": 42,
     "metadata": {},
     "output_type": "execute_result"
    }
   ],
   "source": [
    "df_proDevel.shape"
   ]
  },
  {
   "cell_type": "code",
   "execution_count": 43,
   "metadata": {},
   "outputs": [],
   "source": [
    "df_proDevel = df_proDevel.dropna(subset=['YearsCodedJob'])"
   ]
  },
  {
   "cell_type": "code",
   "execution_count": 44,
   "metadata": {},
   "outputs": [],
   "source": [
    "df_proDevel['YearsCodedJobInt'] = df_proDevel['YearsCodedJob'].map(lambda x: int(x.split(\" \")[0]) if not (x =='Less than a year') else 0)"
   ]
  },
  {
   "cell_type": "markdown",
   "metadata": {},
   "source": [
    "1. Which values in columns are significance TGI  for professional developer?"
   ]
  },
  {
   "cell_type": "code",
   "execution_count": 45,
   "metadata": {},
   "outputs": [],
   "source": [
    "top_ratio_dict = {}\n",
    "# Features' samples number less than sample_size in the data set will be dropped.\n",
    "sample_size = 1000\n",
    "min_tgi = 1.2\n",
    "top_ratio_num = 3\n",
    "\n",
    "for column in df_public.columns:\n",
    "    \n",
    "    keep_len = (df_public[column].value_counts() > sample_size).sum()   \n",
    "    #? 都用keep_len是否准确？\n",
    "    top_ratio = ((df_proDevel[column].value_counts().iloc[:keep_len] / df_proDevel[column].shape[0])  \\\n",
    "                               /(df_public[column].value_counts().iloc[:keep_len] / df_public[column].shape[0]))   \\\n",
    "                               .sort_values(ascending=False).iloc[:top_ratio_num]\n",
    "    # Skip the column being empty or all values being NAN.\n",
    "    if np.isnan(top_ratio.values).sum() == len(top_ratio.values):\n",
    "        continue\n",
    "        \n",
    "    filter_condition =  top_ratio.values[:1][0] > min_tgi # or np.isnan(top_five_ratio.values).any() \n",
    "                        \n",
    "    if filter_condition:\n",
    "        top_ratio_dict[column] = top_ratio\n",
    "         "
   ]
  },
  {
   "cell_type": "code",
   "execution_count": 46,
   "metadata": {},
   "outputs": [],
   "source": [
    "columns = []\n",
    "for column,top_ratio in top_ratio_dict.items():\n",
    "    columns.append(column)\n",
    "    #print(top_ratio)\n",
    "#columns"
   ]
  },
  {
   "cell_type": "code",
   "execution_count": 47,
   "metadata": {},
   "outputs": [
    {
     "data": {
      "text/plain": [
       "['Professional',\n",
       " 'CompanySize',\n",
       " 'CompanyType',\n",
       " 'YearsProgram',\n",
       " 'YearsCodedJob',\n",
       " 'DeveloperType',\n",
       " 'WebDeveloperType',\n",
       " 'CareerSatisfaction',\n",
       " 'JobSatisfaction',\n",
       " 'ResumePrompted',\n",
       " 'LearnedHiring',\n",
       " 'ImportantHiringPMExp',\n",
       " 'Currency',\n",
       " 'Overpaid',\n",
       " 'EducationImportant',\n",
       " 'EducationTypes',\n",
       " 'TimeAfterBootcamp',\n",
       " 'HaveWorkedLanguage',\n",
       " 'HaveWorkedFramework',\n",
       " 'WantWorkFramework',\n",
       " 'HaveWorkedDatabase',\n",
       " 'WantWorkDatabase',\n",
       " 'HaveWorkedPlatform',\n",
       " 'WantWorkPlatform',\n",
       " 'IDE',\n",
       " 'Methodology',\n",
       " 'VersionControl',\n",
       " 'CheckInCode',\n",
       " 'InfluenceWorkstation',\n",
       " 'InfluenceHardware',\n",
       " 'InfluenceServers',\n",
       " 'InfluenceTechStack',\n",
       " 'InfluenceDeptTech',\n",
       " 'InfluenceVizTools',\n",
       " 'InfluenceDatabase',\n",
       " 'InfluenceCloud',\n",
       " 'InfluenceConsultants',\n",
       " 'InfluenceRecruitment',\n",
       " 'InfluenceCommunication',\n",
       " 'StackOverflowDescribes']"
      ]
     },
     "execution_count": 47,
     "metadata": {},
     "output_type": "execute_result"
    }
   ],
   "source": [
    "columns"
   ]
  },
  {
   "cell_type": "markdown",
   "metadata": {},
   "source": [
    "2. Is professional developer taking the job for young people only？"
   ]
  },
  {
   "cell_type": "code",
   "execution_count": 17,
   "metadata": {},
   "outputs": [
    {
     "data": {
      "image/png": "[encoded data removed]",
      "text/plain": [
       "<Figure size 432x288 with 1 Axes>"
      ]
     },
     "metadata": {
      "needs_background": "light"
     },
     "output_type": "display_data"
    }
   ],
   "source": [
    "df_proDevel.YearsCodedJob.value_counts().plot();"
   ]
  },
  {
   "cell_type": "code",
   "execution_count": 18,
   "metadata": {},
   "outputs": [
    {
     "data": {
      "image/png": "[encoded data removed]",
      "text/plain": [
       "<Figure size 432x288 with 1 Axes>"
      ]
     },
     "metadata": {
      "needs_background": "light"
     },
     "output_type": "display_data"
    }
   ],
   "source": [
    "df_proDevel['Salary'].groupby(df_proDevel['YearsCodedJobInt']).mean().plot();"
   ]
  },
  {
   "cell_type": "code",
   "execution_count": 19,
   "metadata": {},
   "outputs": [
    {
     "data": {
      "image/png": "[encoded data removed]",
      "text/plain": [
       "<Figure size 432x288 with 1 Axes>"
      ]
     },
     "metadata": {
      "needs_background": "light"
     },
     "output_type": "display_data"
    }
   ],
   "source": [
    "df_proDevel['CareerSatisfaction'].groupby(df_proDevel['YearsCodedJobInt']).mean().plot();"
   ]
  },
  {
   "cell_type": "code",
   "execution_count": 20,
   "metadata": {},
   "outputs": [
    {
     "data": {
      "image/png": "[encoded data removed]",
      "text/plain": [
       "<Figure size 432x288 with 1 Axes>"
      ]
     },
     "metadata": {
      "needs_background": "light"
     },
     "output_type": "display_data"
    }
   ],
   "source": [
    "df_proDevel['JobSatisfaction'].groupby(df_proDevel['YearsCodedJobInt']).mean().plot();"
   ]
  },
  {
   "cell_type": "code",
   "execution_count": 21,
   "metadata": {},
   "outputs": [
    {
     "data": {
      "text/plain": [
       "(51392, 147)"
      ]
     },
     "execution_count": 21,
     "metadata": {},
     "output_type": "execute_result"
    }
   ],
   "source": [
    "df_public.select_dtypes(include=['object']).shape"
   ]
  },
  {
   "cell_type": "code",
   "execution_count": 29,
   "metadata": {},
   "outputs": [],
   "source": [
    "# Reference https://ramhiser.com/post/2018-04-16-building-scikit-learn-pipeline-with-pandas-dataframe/\n",
    "\n",
    "# class ColumnSelector(BaseEstimator, TransformerMixin):\n",
    "#     def __init__(self, columns):\n",
    "#         self.columns = columns\n",
    "\n",
    "#     def fit(self, X, y=None):\n",
    "#         return self\n",
    "\n",
    "#     def transform(self, X):\n",
    "#         assert isinstance(X, pd.DataFrame)\n",
    "\n",
    "#         try:\n",
    "#             return X[self.columns]\n",
    "#         except KeyError:\n",
    "#             cols_error = list(set(self.columns) - set(X.columns))\n",
    "#             raise KeyError(\"The DataFrame does not include the columns: %s\" % cols_error)\n",
    "\n",
    "\n",
    "class TypeSelector(BaseEstimator, TransformerMixin):\n",
    "    def __init__(self, dtype):\n",
    "        self.dtype = dtype\n",
    "\n",
    "    def fit(self, X, y=None):\n",
    "        return self\n",
    "\n",
    "    def transform(self, X):\n",
    "        assert isinstance(X, pd.DataFrame)\n",
    "        return X.select_dtypes(include=[self.dtype])"
   ]
  },
  {
   "cell_type": "code",
   "execution_count": 20,
   "metadata": {},
   "outputs": [],
   "source": [
    "def build_model():\n",
    "    preprocess_pipeline = make_pipeline(\n",
    "        FeatureUnion(transformer_list=[\n",
    "            (\"categorical_features\", make_pipeline(\n",
    "                TypeSelector(\"object\"),\n",
    "                SimpleImputer(strategy=\"most_frequent\"),\n",
    "                OrdinalEncoder()\n",
    "            )),\n",
    "            (\"numeric_features\", make_pipeline(\n",
    "                TypeSelector(\"number\"),\n",
    "                SimpleImputer(strategy=\"median\"),\n",
    "                StandardScaler()\n",
    "            ))\n",
    "        ])\n",
    "    )\n",
    "    classifier_pipeline = make_pipeline(\n",
    "        preprocess_pipeline,\n",
    "        RandomForestClassifier()\n",
    "    )\n",
    "    \n",
    "    # specify parameters for grid search\n",
    "    parameters = {\n",
    "        \"randomforestclassifier__min_samples_leaf\":(10, 100, 1000),\n",
    "        \"randomforestclassifier__n_estimators\":[10, 100, 1000],\n",
    "        \"randomforestclassifier__warm_start\":(True, False)\n",
    "\n",
    "    }\n",
    "\n",
    "    # create grid search object\n",
    "    cv = GridSearchCV(classifier_pipeline, param_grid=parameters, cv=5, error_score='raise')\n",
    "    \n",
    "    return cv"
   ]
  },
  {
   "cell_type": "code",
   "execution_count": 31,
   "metadata": {},
   "outputs": [],
   "source": [
    "def load_data():\n",
    "    df = pd.read_csv('survey_results_public.csv')\n",
    "    X = df.drop(['Professional'], axis=1)\n",
    "    X = infrequence_to_nan(X, 20)\n",
    "    y = df.Professional\n",
    "    return X, y "
   ]
  },
  {
   "cell_type": "code",
   "execution_count": 27,
   "metadata": {},
   "outputs": [],
   "source": [
    "def infrequence_to_nan(df, thres=10):\n",
    "    threshold = thres\n",
    "    cat_columns = df.select_dtypes(include=['object']).columns\n",
    "    for column in cat_columns:\n",
    "        value_count = df.select_dtypes(include=['object'])[column].value_counts()\n",
    "        to_move = value_count[value_count <= threshold]\n",
    "        df[column].isin(to_move.index)\n",
    "        df[column].mask(df[column].isin(to_move.index),inplace=True)\n",
    "    return df"
   ]
  },
  {
   "cell_type": "code",
   "execution_count": 48,
   "metadata": {},
   "outputs": [],
   "source": [
    "def display_results(cv, y_test, y_pred):\n",
    "    labels = np.unique(y_pred)\n",
    "    confusion_mat = confusion_matrix(y_test, y_pred, labels=labels)\n",
    "    balanced_accuracy = balanced_accuracy_score(y_test, y_pred)\n",
    "    corrcoef = matthews_corrcoef(y_test, y_pred)\n",
    "    importances = cv.feature_importances_\n",
    "\n",
    "    print(\"Labels:\", labels)\n",
    "    print(\"Confusion Matrix:\\n\", confusion_mat)\n",
    "    print(\"Balanced_accuracy_score:\\n\", balanced_accuracy)\n",
    "    print(\"\\nMatthews_corrcoef:\", corrcoef)\n",
    "    print(\"\\nBest Parameters:\", cv.best_params_)\n",
    "    \n",
    "    # Plot the feature importances of the forest\n",
    "    plt.figure()\n",
    "    plt.title(\"Feature importances\")\n",
    "    plt.bar(range(X.shape[1]), importances[indices],\n",
    "           color=\"r\", yerr=std[indices], align=\"center\")\n",
    "    plt.xticks(range(X.shape[1]), indices)\n",
    "    plt.xlim([-1, X.shape[1]])\n",
    "    plt.show()"
   ]
  },
  {
   "cell_type": "code",
   "execution_count": null,
   "metadata": {
    "scrolled": false
   },
   "outputs": [],
   "source": [
    "def main():\n",
    "    X, y = load_data()\n",
    "\n",
    "    X_train, X_test, y_train, y_test = train_test_split(X, y, test_size=0.3)\n",
    "    \n",
    "    model = build_model()\n",
    "    \n",
    "    model.fit(X_train, y_train)\n",
    "    \n",
    "    y_pred = model.predict(X_test)\n",
    "    \n",
    "    display_results(model, y_test, y_pred)\n",
    "\n",
    "\n",
    "main() "
   ]
  }
 ],
 "metadata": {
  "kernelspec": {
   "display_name": "Python 3",
   "language": "python",
   "name": "python3"
  },
  "language_info": {
   "codemirror_mode": {
    "name": "ipython",
    "version": 3
   },
   "file_extension": ".py",
   "mimetype": "text/x-python",
   "name": "python",
   "nbconvert_exporter": "python",
   "pygments_lexer": "ipython3",
   "version": "3.7.4"
  }
 },
 "nbformat": 4,
 "nbformat_minor": 2
}
