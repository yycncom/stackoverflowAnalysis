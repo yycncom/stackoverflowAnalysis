{
 "cells": [
  {
   "cell_type": "code",
   "execution_count": 1,
   "metadata": {},
   "outputs": [],
   "source": [
    "import numpy as np\n",
    "import pandas as pd\n",
    "from sklearn.feature_selection import mutual_info_classif\n",
    "from sklearn.compose import ColumnTransformer, make_column_transformer\n",
    "from sklearn.preprocessing import LabelEncoder, OneHotEncoder, OrdinalEncoder, StandardScaler, Normalizer\n",
    "from sklearn.impute import SimpleImputer\n",
    "\n",
    "from sklearn.model_selection import train_test_split, GridSearchCV\n",
    "from sklearn.base import BaseEstimator, TransformerMixin\n",
    "from sklearn.pipeline import Pipeline, FeatureUnion, make_pipeline\n",
    "from sklearn.ensemble import RandomForestClassifier\n",
    "from sklearn.linear_model import LinearRegression\n",
    "from sklearn.svm import SVC\n",
    "from sklearn.metrics import confusion_matrix, balanced_accuracy_score, matthews_corrcoef\n",
    "\n",
    "import lightgbm as lgb\n",
    "import xgboost as xgb\n",
    "\n",
    "import matplotlib.pyplot as plt\n",
    "import seaborn as sns"
   ]
  },
  {
   "cell_type": "code",
   "execution_count": 2,
   "metadata": {},
   "outputs": [],
   "source": [
    "df_public = pd.read_csv('survey_results_public.csv')"
   ]
  },
  {
   "cell_type": "code",
   "execution_count": 3,
   "metadata": {},
   "outputs": [],
   "source": [
    "df_schema = pd.read_csv('survey_results_schema.csv')"
   ]
  },
  {
   "cell_type": "markdown",
   "metadata": {},
   "source": [
    "The overall goal is to gain insight into the careers of professional developer. Of particular focus are the factors that influence a professional developer ‘s and . I adress the overall goal through 4 specific questions:\n",
    "\n",
    "   Which values in columns are significance TGI for professional developer?\n",
    "\n",
    "   Is professional developer taking the job for young people only？\n",
    "\n",
    "   How well can we predict Profesional situaction?\n",
    "\n",
    "   What are the most popular languages and tools among professional developer?"
   ]
  },
  {
   "cell_type": "markdown",
   "metadata": {},
   "source": [
    "### Explode Data Analysis for Stack Overflow survey results data in 2017"
   ]
  },
  {
   "cell_type": "code",
   "execution_count": 4,
   "metadata": {
    "scrolled": true
   },
   "outputs": [
    {
     "data": {
      "text/html": [
       "<div>\n",
       "<style scoped>\n",
       "    .dataframe tbody tr th:only-of-type {\n",
       "        vertical-align: middle;\n",
       "    }\n",
       "\n",
       "    .dataframe tbody tr th {\n",
       "        vertical-align: top;\n",
       "    }\n",
       "\n",
       "    .dataframe thead th {\n",
       "        text-align: right;\n",
       "    }\n",
       "</style>\n",
       "<table border=\"1\" class=\"dataframe\">\n",
       "  <thead>\n",
       "    <tr style=\"text-align: right;\">\n",
       "      <th></th>\n",
       "      <th>Respondent</th>\n",
       "      <th>Professional</th>\n",
       "      <th>ProgramHobby</th>\n",
       "      <th>Country</th>\n",
       "      <th>University</th>\n",
       "      <th>EmploymentStatus</th>\n",
       "      <th>FormalEducation</th>\n",
       "      <th>MajorUndergrad</th>\n",
       "      <th>HomeRemote</th>\n",
       "      <th>CompanySize</th>\n",
       "      <th>...</th>\n",
       "      <th>StackOverflowMakeMoney</th>\n",
       "      <th>Gender</th>\n",
       "      <th>HighestEducationParents</th>\n",
       "      <th>Race</th>\n",
       "      <th>SurveyLong</th>\n",
       "      <th>QuestionsInteresting</th>\n",
       "      <th>QuestionsConfusing</th>\n",
       "      <th>InterestedAnswers</th>\n",
       "      <th>Salary</th>\n",
       "      <th>ExpectedSalary</th>\n",
       "    </tr>\n",
       "  </thead>\n",
       "  <tbody>\n",
       "    <tr>\n",
       "      <td>0</td>\n",
       "      <td>1</td>\n",
       "      <td>Student</td>\n",
       "      <td>Yes, both</td>\n",
       "      <td>United States</td>\n",
       "      <td>No</td>\n",
       "      <td>Not employed, and not looking for work</td>\n",
       "      <td>Secondary school</td>\n",
       "      <td>NaN</td>\n",
       "      <td>NaN</td>\n",
       "      <td>NaN</td>\n",
       "      <td>...</td>\n",
       "      <td>Strongly disagree</td>\n",
       "      <td>Male</td>\n",
       "      <td>High school</td>\n",
       "      <td>White or of European descent</td>\n",
       "      <td>Strongly disagree</td>\n",
       "      <td>Strongly agree</td>\n",
       "      <td>Disagree</td>\n",
       "      <td>Strongly agree</td>\n",
       "      <td>NaN</td>\n",
       "      <td>NaN</td>\n",
       "    </tr>\n",
       "    <tr>\n",
       "      <td>1</td>\n",
       "      <td>2</td>\n",
       "      <td>Student</td>\n",
       "      <td>Yes, both</td>\n",
       "      <td>United Kingdom</td>\n",
       "      <td>Yes, full-time</td>\n",
       "      <td>Employed part-time</td>\n",
       "      <td>Some college/university study without earning ...</td>\n",
       "      <td>Computer science or software engineering</td>\n",
       "      <td>More than half, but not all, the time</td>\n",
       "      <td>20 to 99 employees</td>\n",
       "      <td>...</td>\n",
       "      <td>Strongly disagree</td>\n",
       "      <td>Male</td>\n",
       "      <td>A master's degree</td>\n",
       "      <td>White or of European descent</td>\n",
       "      <td>Somewhat agree</td>\n",
       "      <td>Somewhat agree</td>\n",
       "      <td>Disagree</td>\n",
       "      <td>Strongly agree</td>\n",
       "      <td>NaN</td>\n",
       "      <td>37500.0</td>\n",
       "    </tr>\n",
       "    <tr>\n",
       "      <td>2</td>\n",
       "      <td>3</td>\n",
       "      <td>Professional developer</td>\n",
       "      <td>Yes, both</td>\n",
       "      <td>United Kingdom</td>\n",
       "      <td>No</td>\n",
       "      <td>Employed full-time</td>\n",
       "      <td>Bachelor's degree</td>\n",
       "      <td>Computer science or software engineering</td>\n",
       "      <td>Less than half the time, but at least one day ...</td>\n",
       "      <td>10,000 or more employees</td>\n",
       "      <td>...</td>\n",
       "      <td>Disagree</td>\n",
       "      <td>Male</td>\n",
       "      <td>A professional degree</td>\n",
       "      <td>White or of European descent</td>\n",
       "      <td>Somewhat agree</td>\n",
       "      <td>Agree</td>\n",
       "      <td>Disagree</td>\n",
       "      <td>Agree</td>\n",
       "      <td>113750.0</td>\n",
       "      <td>NaN</td>\n",
       "    </tr>\n",
       "    <tr>\n",
       "      <td>3</td>\n",
       "      <td>4</td>\n",
       "      <td>Professional non-developer who sometimes write...</td>\n",
       "      <td>Yes, both</td>\n",
       "      <td>United States</td>\n",
       "      <td>No</td>\n",
       "      <td>Employed full-time</td>\n",
       "      <td>Doctoral degree</td>\n",
       "      <td>A non-computer-focused engineering discipline</td>\n",
       "      <td>Less than half the time, but at least one day ...</td>\n",
       "      <td>10,000 or more employees</td>\n",
       "      <td>...</td>\n",
       "      <td>Disagree</td>\n",
       "      <td>Male</td>\n",
       "      <td>A doctoral degree</td>\n",
       "      <td>White or of European descent</td>\n",
       "      <td>Agree</td>\n",
       "      <td>Agree</td>\n",
       "      <td>Somewhat agree</td>\n",
       "      <td>Strongly agree</td>\n",
       "      <td>NaN</td>\n",
       "      <td>NaN</td>\n",
       "    </tr>\n",
       "    <tr>\n",
       "      <td>4</td>\n",
       "      <td>5</td>\n",
       "      <td>Professional developer</td>\n",
       "      <td>Yes, I program as a hobby</td>\n",
       "      <td>Switzerland</td>\n",
       "      <td>No</td>\n",
       "      <td>Employed full-time</td>\n",
       "      <td>Master's degree</td>\n",
       "      <td>Computer science or software engineering</td>\n",
       "      <td>Never</td>\n",
       "      <td>10 to 19 employees</td>\n",
       "      <td>...</td>\n",
       "      <td>NaN</td>\n",
       "      <td>NaN</td>\n",
       "      <td>NaN</td>\n",
       "      <td>NaN</td>\n",
       "      <td>NaN</td>\n",
       "      <td>NaN</td>\n",
       "      <td>NaN</td>\n",
       "      <td>NaN</td>\n",
       "      <td>NaN</td>\n",
       "      <td>NaN</td>\n",
       "    </tr>\n",
       "  </tbody>\n",
       "</table>\n",
       "<p>5 rows × 154 columns</p>\n",
       "</div>"
      ],
      "text/plain": [
       "   Respondent                                       Professional  \\\n",
       "0           1                                            Student   \n",
       "1           2                                            Student   \n",
       "2           3                             Professional developer   \n",
       "3           4  Professional non-developer who sometimes write...   \n",
       "4           5                             Professional developer   \n",
       "\n",
       "                ProgramHobby         Country      University  \\\n",
       "0                  Yes, both   United States              No   \n",
       "1                  Yes, both  United Kingdom  Yes, full-time   \n",
       "2                  Yes, both  United Kingdom              No   \n",
       "3                  Yes, both   United States              No   \n",
       "4  Yes, I program as a hobby     Switzerland              No   \n",
       "\n",
       "                         EmploymentStatus  \\\n",
       "0  Not employed, and not looking for work   \n",
       "1                      Employed part-time   \n",
       "2                      Employed full-time   \n",
       "3                      Employed full-time   \n",
       "4                      Employed full-time   \n",
       "\n",
       "                                     FormalEducation  \\\n",
       "0                                   Secondary school   \n",
       "1  Some college/university study without earning ...   \n",
       "2                                  Bachelor's degree   \n",
       "3                                    Doctoral degree   \n",
       "4                                    Master's degree   \n",
       "\n",
       "                                  MajorUndergrad  \\\n",
       "0                                            NaN   \n",
       "1       Computer science or software engineering   \n",
       "2       Computer science or software engineering   \n",
       "3  A non-computer-focused engineering discipline   \n",
       "4       Computer science or software engineering   \n",
       "\n",
       "                                          HomeRemote  \\\n",
       "0                                                NaN   \n",
       "1              More than half, but not all, the time   \n",
       "2  Less than half the time, but at least one day ...   \n",
       "3  Less than half the time, but at least one day ...   \n",
       "4                                              Never   \n",
       "\n",
       "                CompanySize  ... StackOverflowMakeMoney Gender  \\\n",
       "0                       NaN  ...      Strongly disagree   Male   \n",
       "1        20 to 99 employees  ...      Strongly disagree   Male   \n",
       "2  10,000 or more employees  ...               Disagree   Male   \n",
       "3  10,000 or more employees  ...               Disagree   Male   \n",
       "4        10 to 19 employees  ...                    NaN    NaN   \n",
       "\n",
       "  HighestEducationParents                          Race         SurveyLong  \\\n",
       "0             High school  White or of European descent  Strongly disagree   \n",
       "1       A master's degree  White or of European descent     Somewhat agree   \n",
       "2   A professional degree  White or of European descent     Somewhat agree   \n",
       "3       A doctoral degree  White or of European descent              Agree   \n",
       "4                     NaN                           NaN                NaN   \n",
       "\n",
       "  QuestionsInteresting QuestionsConfusing InterestedAnswers    Salary  \\\n",
       "0       Strongly agree           Disagree    Strongly agree       NaN   \n",
       "1       Somewhat agree           Disagree    Strongly agree       NaN   \n",
       "2                Agree           Disagree             Agree  113750.0   \n",
       "3                Agree     Somewhat agree    Strongly agree       NaN   \n",
       "4                  NaN                NaN               NaN       NaN   \n",
       "\n",
       "   ExpectedSalary  \n",
       "0             NaN  \n",
       "1         37500.0  \n",
       "2             NaN  \n",
       "3             NaN  \n",
       "4             NaN  \n",
       "\n",
       "[5 rows x 154 columns]"
      ]
     },
     "execution_count": 4,
     "metadata": {},
     "output_type": "execute_result"
    }
   ],
   "source": [
    "df_public.head()"
   ]
  },
  {
   "cell_type": "code",
   "execution_count": 5,
   "metadata": {},
   "outputs": [
    {
     "data": {
      "text/html": [
       "<div>\n",
       "<style scoped>\n",
       "    .dataframe tbody tr th:only-of-type {\n",
       "        vertical-align: middle;\n",
       "    }\n",
       "\n",
       "    .dataframe tbody tr th {\n",
       "        vertical-align: top;\n",
       "    }\n",
       "\n",
       "    .dataframe thead th {\n",
       "        text-align: right;\n",
       "    }\n",
       "</style>\n",
       "<table border=\"1\" class=\"dataframe\">\n",
       "  <thead>\n",
       "    <tr style=\"text-align: right;\">\n",
       "      <th></th>\n",
       "      <th>Respondent</th>\n",
       "      <th>CareerSatisfaction</th>\n",
       "      <th>JobSatisfaction</th>\n",
       "      <th>HoursPerWeek</th>\n",
       "      <th>StackOverflowSatisfaction</th>\n",
       "      <th>Salary</th>\n",
       "      <th>ExpectedSalary</th>\n",
       "    </tr>\n",
       "  </thead>\n",
       "  <tbody>\n",
       "    <tr>\n",
       "      <td>count</td>\n",
       "      <td>51392.000000</td>\n",
       "      <td>42695.000000</td>\n",
       "      <td>40376.000000</td>\n",
       "      <td>20600.000000</td>\n",
       "      <td>36592.000000</td>\n",
       "      <td>12891.000000</td>\n",
       "      <td>2566.000000</td>\n",
       "    </tr>\n",
       "    <tr>\n",
       "      <td>mean</td>\n",
       "      <td>25696.500000</td>\n",
       "      <td>7.300574</td>\n",
       "      <td>6.957078</td>\n",
       "      <td>3.952282</td>\n",
       "      <td>8.429875</td>\n",
       "      <td>56298.480641</td>\n",
       "      <td>33142.220468</td>\n",
       "    </tr>\n",
       "    <tr>\n",
       "      <td>std</td>\n",
       "      <td>14835.736854</td>\n",
       "      <td>1.955444</td>\n",
       "      <td>2.167652</td>\n",
       "      <td>7.564722</td>\n",
       "      <td>1.390635</td>\n",
       "      <td>39880.905277</td>\n",
       "      <td>30162.988829</td>\n",
       "    </tr>\n",
       "    <tr>\n",
       "      <td>min</td>\n",
       "      <td>1.000000</td>\n",
       "      <td>0.000000</td>\n",
       "      <td>0.000000</td>\n",
       "      <td>0.000000</td>\n",
       "      <td>0.000000</td>\n",
       "      <td>0.000000</td>\n",
       "      <td>0.000000</td>\n",
       "    </tr>\n",
       "    <tr>\n",
       "      <td>25%</td>\n",
       "      <td>12848.750000</td>\n",
       "      <td>6.000000</td>\n",
       "      <td>6.000000</td>\n",
       "      <td>1.000000</td>\n",
       "      <td>8.000000</td>\n",
       "      <td>26440.371839</td>\n",
       "      <td>4490.492484</td>\n",
       "    </tr>\n",
       "    <tr>\n",
       "      <td>50%</td>\n",
       "      <td>25696.500000</td>\n",
       "      <td>8.000000</td>\n",
       "      <td>7.000000</td>\n",
       "      <td>1.000000</td>\n",
       "      <td>9.000000</td>\n",
       "      <td>50000.000000</td>\n",
       "      <td>29364.263691</td>\n",
       "    </tr>\n",
       "    <tr>\n",
       "      <td>75%</td>\n",
       "      <td>38544.250000</td>\n",
       "      <td>9.000000</td>\n",
       "      <td>8.000000</td>\n",
       "      <td>4.000000</td>\n",
       "      <td>10.000000</td>\n",
       "      <td>80000.000000</td>\n",
       "      <td>50403.225806</td>\n",
       "    </tr>\n",
       "    <tr>\n",
       "      <td>max</td>\n",
       "      <td>51392.000000</td>\n",
       "      <td>10.000000</td>\n",
       "      <td>10.000000</td>\n",
       "      <td>40.000000</td>\n",
       "      <td>10.000000</td>\n",
       "      <td>197000.000000</td>\n",
       "      <td>187500.000000</td>\n",
       "    </tr>\n",
       "  </tbody>\n",
       "</table>\n",
       "</div>"
      ],
      "text/plain": [
       "         Respondent  CareerSatisfaction  JobSatisfaction  HoursPerWeek  \\\n",
       "count  51392.000000        42695.000000     40376.000000  20600.000000   \n",
       "mean   25696.500000            7.300574         6.957078      3.952282   \n",
       "std    14835.736854            1.955444         2.167652      7.564722   \n",
       "min        1.000000            0.000000         0.000000      0.000000   \n",
       "25%    12848.750000            6.000000         6.000000      1.000000   \n",
       "50%    25696.500000            8.000000         7.000000      1.000000   \n",
       "75%    38544.250000            9.000000         8.000000      4.000000   \n",
       "max    51392.000000           10.000000        10.000000     40.000000   \n",
       "\n",
       "       StackOverflowSatisfaction         Salary  ExpectedSalary  \n",
       "count               36592.000000   12891.000000     2566.000000  \n",
       "mean                    8.429875   56298.480641    33142.220468  \n",
       "std                     1.390635   39880.905277    30162.988829  \n",
       "min                     0.000000       0.000000        0.000000  \n",
       "25%                     8.000000   26440.371839     4490.492484  \n",
       "50%                     9.000000   50000.000000    29364.263691  \n",
       "75%                    10.000000   80000.000000    50403.225806  \n",
       "max                    10.000000  197000.000000   187500.000000  "
      ]
     },
     "execution_count": 5,
     "metadata": {},
     "output_type": "execute_result"
    }
   ],
   "source": [
    "df_public.describe()"
   ]
  },
  {
   "cell_type": "code",
   "execution_count": 98,
   "metadata": {},
   "outputs": [
    {
     "data": {
      "text/html": [
       "<div>\n",
       "<style scoped>\n",
       "    .dataframe tbody tr th:only-of-type {\n",
       "        vertical-align: middle;\n",
       "    }\n",
       "\n",
       "    .dataframe tbody tr th {\n",
       "        vertical-align: top;\n",
       "    }\n",
       "\n",
       "    .dataframe thead th {\n",
       "        text-align: right;\n",
       "    }\n",
       "</style>\n",
       "<table border=\"1\" class=\"dataframe\">\n",
       "  <thead>\n",
       "    <tr style=\"text-align: right;\">\n",
       "      <th></th>\n",
       "      <th>type</th>\n",
       "    </tr>\n",
       "  </thead>\n",
       "  <tbody>\n",
       "    <tr>\n",
       "      <td>Respondent</td>\n",
       "      <td>int64</td>\n",
       "    </tr>\n",
       "    <tr>\n",
       "      <td>Professional</td>\n",
       "      <td>object</td>\n",
       "    </tr>\n",
       "    <tr>\n",
       "      <td>ProgramHobby</td>\n",
       "      <td>object</td>\n",
       "    </tr>\n",
       "    <tr>\n",
       "      <td>Country</td>\n",
       "      <td>object</td>\n",
       "    </tr>\n",
       "    <tr>\n",
       "      <td>University</td>\n",
       "      <td>object</td>\n",
       "    </tr>\n",
       "    <tr>\n",
       "      <td>...</td>\n",
       "      <td>...</td>\n",
       "    </tr>\n",
       "    <tr>\n",
       "      <td>QuestionsInteresting</td>\n",
       "      <td>object</td>\n",
       "    </tr>\n",
       "    <tr>\n",
       "      <td>QuestionsConfusing</td>\n",
       "      <td>object</td>\n",
       "    </tr>\n",
       "    <tr>\n",
       "      <td>InterestedAnswers</td>\n",
       "      <td>object</td>\n",
       "    </tr>\n",
       "    <tr>\n",
       "      <td>Salary</td>\n",
       "      <td>float64</td>\n",
       "    </tr>\n",
       "    <tr>\n",
       "      <td>ExpectedSalary</td>\n",
       "      <td>float64</td>\n",
       "    </tr>\n",
       "  </tbody>\n",
       "</table>\n",
       "<p>154 rows × 1 columns</p>\n",
       "</div>"
      ],
      "text/plain": [
       "                         type\n",
       "Respondent              int64\n",
       "Professional           object\n",
       "ProgramHobby           object\n",
       "Country                object\n",
       "University             object\n",
       "...                       ...\n",
       "QuestionsInteresting   object\n",
       "QuestionsConfusing     object\n",
       "InterestedAnswers      object\n",
       "Salary                float64\n",
       "ExpectedSalary        float64\n",
       "\n",
       "[154 rows x 1 columns]"
      ]
     },
     "execution_count": 98,
     "metadata": {},
     "output_type": "execute_result"
    }
   ],
   "source": [
    "def show_dtype(df='df'):\n",
    "    d = {}\n",
    "    for column in df.columns:\n",
    "        d[column] = df[column].dtypes \n",
    "    column = pd.Series(d).to_frame()\n",
    "    column.columns = ['type']\n",
    "    return column\n",
    "\n",
    "column = show_dtype(df_public)\n",
    "column"
   ]
  },
  {
   "cell_type": "code",
   "execution_count": 39,
   "metadata": {},
   "outputs": [
    {
     "data": {
      "text/plain": [
       "array(['Which of the following best describes you?'], dtype=object)"
      ]
     },
     "execution_count": 39,
     "metadata": {},
     "output_type": "execute_result"
    }
   ],
   "source": [
    "df_schema[df_schema.Column == 'Professional']['Question'].values"
   ]
  },
  {
   "cell_type": "code",
   "execution_count": 10,
   "metadata": {},
   "outputs": [],
   "source": [
    "df_proDevel = df_public[df_public.Professional == 'Professional developer']"
   ]
  },
  {
   "cell_type": "code",
   "execution_count": 11,
   "metadata": {},
   "outputs": [
    {
     "data": {
      "text/plain": [
       "(36131, 154)"
      ]
     },
     "execution_count": 11,
     "metadata": {},
     "output_type": "execute_result"
    }
   ],
   "source": [
    "df_proDevel.shape"
   ]
  },
  {
   "cell_type": "code",
   "execution_count": 12,
   "metadata": {},
   "outputs": [],
   "source": [
    "df_proDevel = df_proDevel.dropna(subset=['YearsCodedJob'])"
   ]
  },
  {
   "cell_type": "code",
   "execution_count": 118,
   "metadata": {},
   "outputs": [
    {
     "data": {
      "image/png": "[encoded data removed]",
      "text/plain": [
       "<Figure size 864x360 with 1 Axes>"
      ]
     },
     "metadata": {
      "needs_background": "light"
     },
     "output_type": "display_data"
    }
   ],
   "source": [
    "df_public['Professional'].value_counts().plot(kind='bar',figsize=(12,5));\n",
    "plt.xticks(rotation=15);"
   ]
  },
  {
   "cell_type": "code",
   "execution_count": 13,
   "metadata": {},
   "outputs": [],
   "source": [
    "df_proDevel['YearsCodedJobInt'] = df_proDevel['YearsCodedJob'].map(lambda x: int(x.split(\" \")[0]) if not (x =='Less than a year') else 0)"
   ]
  },
  {
   "cell_type": "markdown",
   "metadata": {},
   "source": [
    "1. Which values in columns are significance TGI  for professional developer?"
   ]
  },
  {
   "cell_type": "code",
   "execution_count": 104,
   "metadata": {},
   "outputs": [],
   "source": [
    "def tgi(df='df',target_df='df', target_column='', sample_size=1000, min_tgi=1.28, top_ratio_num=1):\n",
    "    '''\n",
    "    Input:  df is all dataframe data for calculating TGI(target group index).\n",
    "            target_df is target group dataframe .\n",
    "            target_column is the column which the TGI in.\n",
    "            sample_size Features' samples number less than sample_size in the data set will be dropped.\n",
    "            min_tgi columns will be dropped which column's TGI below min_tgi\n",
    "            top_ratio_num  is the number will being kept top ratio in the column.  \n",
    "\n",
    "    Output: top_ratio_dict is a dictionary key being columns and value being top_ratio items in that column.  \n",
    "    \n",
    "    '''\n",
    "    tgi = {}\n",
    "    # Features' samples number less than sample_size in the data set will be dropped.\n",
    "    sample_size = sample_size\n",
    "    min_tgi = min_tgi\n",
    "    top_ratio_num = 1\n",
    "    \n",
    "    for column in df.drop([target_column], axis=1).columns:\n",
    "        # Features' samples number less than sample_size in the data set will be dropped.\n",
    "        keep_len = (df[column].value_counts() > sample_size).sum()   \n",
    "        # Target group index algorthm        \n",
    "        top_ratio = ((target_df[column].value_counts().iloc[:keep_len] / target_df[column].shape[0])  \\\n",
    "                                   /(df[column].value_counts().iloc[:keep_len] / df[column].shape[0]))   \\\n",
    "                                   .sort_values(ascending=False).iloc[:top_ratio_num]\n",
    "        \n",
    "        # Skip the column being empty or all values being NAN.\n",
    "        if np.isnan(top_ratio.values).sum() == len(top_ratio.values):\n",
    "            continue\n",
    "            \n",
    "        filter_condition =  top_ratio.values[:1][0] > min_tgi # or np.isnan(top_five_ratio.values).any() \n",
    "                            \n",
    "        if filter_condition:\n",
    "            tgi[column] = top_ratio.index[0]\n",
    "        \n",
    "    tgi = pd.Series(tgi).to_frame()    \n",
    "    tgi.columns = ['items']\n",
    "    return tgi\n",
    "         "
   ]
  },
  {
   "cell_type": "code",
   "execution_count": 105,
   "metadata": {},
   "outputs": [],
   "source": [
    "tgi = tgi(df_public, df_proDevel, 'Professional')"
   ]
  },
  {
   "cell_type": "code",
   "execution_count": 106,
   "metadata": {},
   "outputs": [
    {
     "data": {
      "text/html": [
       "<div>\n",
       "<style scoped>\n",
       "    .dataframe tbody tr th:only-of-type {\n",
       "        vertical-align: middle;\n",
       "    }\n",
       "\n",
       "    .dataframe tbody tr th {\n",
       "        vertical-align: top;\n",
       "    }\n",
       "\n",
       "    .dataframe thead th {\n",
       "        text-align: right;\n",
       "    }\n",
       "</style>\n",
       "<table border=\"1\" class=\"dataframe\">\n",
       "  <thead>\n",
       "    <tr style=\"text-align: right;\">\n",
       "      <th></th>\n",
       "      <th>items</th>\n",
       "    </tr>\n",
       "  </thead>\n",
       "  <tbody>\n",
       "    <tr>\n",
       "      <td>YearsCodedJob</td>\n",
       "      <td>8 to 9 years</td>\n",
       "    </tr>\n",
       "    <tr>\n",
       "      <td>DeveloperType</td>\n",
       "      <td>Web developer; Desktop applications developer</td>\n",
       "    </tr>\n",
       "    <tr>\n",
       "      <td>WebDeveloperType</td>\n",
       "      <td>Front-end Web developer</td>\n",
       "    </tr>\n",
       "    <tr>\n",
       "      <td>ResumePrompted</td>\n",
       "      <td>I received bad news about the future of my com...</td>\n",
       "    </tr>\n",
       "    <tr>\n",
       "      <td>LearnedHiring</td>\n",
       "      <td>An external recruiter or headhunter</td>\n",
       "    </tr>\n",
       "    <tr>\n",
       "      <td>Overpaid</td>\n",
       "      <td>Somewhat underpaid</td>\n",
       "    </tr>\n",
       "    <tr>\n",
       "      <td>EducationImportant</td>\n",
       "      <td>Not very important</td>\n",
       "    </tr>\n",
       "    <tr>\n",
       "      <td>HaveWorkedLanguage</td>\n",
       "      <td>C#; JavaScript; SQL</td>\n",
       "    </tr>\n",
       "    <tr>\n",
       "      <td>WantWorkFramework</td>\n",
       "      <td>React</td>\n",
       "    </tr>\n",
       "    <tr>\n",
       "      <td>HaveWorkedPlatform</td>\n",
       "      <td>Amazon Web Services (AWS)</td>\n",
       "    </tr>\n",
       "    <tr>\n",
       "      <td>Methodology</td>\n",
       "      <td>Agile; Scrum; Pair; Kanban</td>\n",
       "    </tr>\n",
       "    <tr>\n",
       "      <td>CheckInCode</td>\n",
       "      <td>Multiple times a day</td>\n",
       "    </tr>\n",
       "  </tbody>\n",
       "</table>\n",
       "</div>"
      ],
      "text/plain": [
       "                                                                items\n",
       "YearsCodedJob                                            8 to 9 years\n",
       "DeveloperType           Web developer; Desktop applications developer\n",
       "WebDeveloperType                              Front-end Web developer\n",
       "ResumePrompted      I received bad news about the future of my com...\n",
       "LearnedHiring                     An external recruiter or headhunter\n",
       "Overpaid                                           Somewhat underpaid\n",
       "EducationImportant                                 Not very important\n",
       "HaveWorkedLanguage                                C#; JavaScript; SQL\n",
       "WantWorkFramework                                               React\n",
       "HaveWorkedPlatform                          Amazon Web Services (AWS)\n",
       "Methodology                                Agile; Scrum; Pair; Kanban\n",
       "CheckInCode                                      Multiple times a day"
      ]
     },
     "execution_count": 106,
     "metadata": {},
     "output_type": "execute_result"
    }
   ],
   "source": [
    "tgi"
   ]
  },
  {
   "cell_type": "markdown",
   "metadata": {},
   "source": [
    "2. Is professional developer taking the job for young people only？"
   ]
  },
  {
   "cell_type": "code",
   "execution_count": 137,
   "metadata": {
    "scrolled": true
   },
   "outputs": [
    {
     "data": {
      "image/png": "[encoded data removed]",
      "text/plain": [
       "<Figure size 432x288 with 1 Axes>"
      ]
     },
     "metadata": {
      "needs_background": "light"
     },
     "output_type": "display_data"
    }
   ],
   "source": [
    "df_proDevel.YearsCodedJob.value_counts().plot(title='Developer number and coded years').set_ylabel('Count');"
   ]
  },
  {
   "cell_type": "code",
   "execution_count": 136,
   "metadata": {},
   "outputs": [
    {
     "data": {
      "image/png": "[encoded data removed]",
      "text/plain": [
       "<Figure size 432x288 with 1 Axes>"
      ]
     },
     "metadata": {
      "needs_background": "light"
     },
     "output_type": "display_data"
    }
   ],
   "source": [
    "df_proDevel[df_proDevel.Country == 'China'].YearsCodedJob.value_counts().plot(title='Developer number and coded years in China').set_ylabel('Count');\n",
    "plt.xticks(rotation=15);"
   ]
  },
  {
   "cell_type": "markdown",
   "metadata": {},
   "source": [
    "About ten years (YearsCodedJob) porfessional developer number reducing become slow. "
   ]
  },
  {
   "cell_type": "code",
   "execution_count": 130,
   "metadata": {
    "scrolled": true
   },
   "outputs": [
    {
     "data": {
      "image/png": "[encoded data removed]",
      "text/plain": [
       "<Figure size 432x288 with 1 Axes>"
      ]
     },
     "metadata": {
      "needs_background": "light"
     },
     "output_type": "display_data"
    }
   ],
   "source": [
    "df_proDevel['Salary'].groupby(df_proDevel['YearsCodedJobInt']).mean().plot(title='Salary and coded years').set_ylabel('Salary');"
   ]
  },
  {
   "cell_type": "code",
   "execution_count": 131,
   "metadata": {},
   "outputs": [
    {
     "data": {
      "image/png": "[encoded data removed]",
      "text/plain": [
       "<Figure size 432x288 with 1 Axes>"
      ]
     },
     "metadata": {
      "needs_background": "light"
     },
     "output_type": "display_data"
    }
   ],
   "source": [
    "df_proDevel[df_proDevel.Country == 'China']['Salary'].groupby(df_proDevel['YearsCodedJobInt']).mean().plot(title='Salary and coded years in China').set_ylabel('Salary');"
   ]
  },
  {
   "cell_type": "markdown",
   "metadata": {},
   "source": [
    "More experimence, more money."
   ]
  },
  {
   "cell_type": "code",
   "execution_count": 135,
   "metadata": {},
   "outputs": [
    {
     "data": {
      "image/png": "[encoded data removed]",
      "text/plain": [
       "<Figure size 432x288 with 1 Axes>"
      ]
     },
     "metadata": {
      "needs_background": "light"
     },
     "output_type": "display_data"
    }
   ],
   "source": [
    "df_proDevel['CareerSatisfaction'].groupby(df_proDevel['YearsCodedJobInt']).mean().plot(title='CareerSatisfaction and coded years').set_ylabel('CareerSatisfaction');"
   ]
  },
  {
   "cell_type": "code",
   "execution_count": 132,
   "metadata": {},
   "outputs": [
    {
     "data": {
      "image/png": "[encoded data removed]",
      "text/plain": [
       "<Figure size 432x288 with 1 Axes>"
      ]
     },
     "metadata": {
      "needs_background": "light"
     },
     "output_type": "display_data"
    }
   ],
   "source": [
    "df_proDevel[df_proDevel.Country == 'China']['CareerSatisfaction'].groupby(df_proDevel['YearsCodedJobInt']).mean().plot(title='CareerSatisfaction and coded years in China').set_ylabel('CareerSatisfaction');"
   ]
  },
  {
   "cell_type": "code",
   "execution_count": 134,
   "metadata": {},
   "outputs": [
    {
     "data": {
      "image/png": "[encoded data removed]",
      "text/plain": [
       "<Figure size 432x288 with 1 Axes>"
      ]
     },
     "metadata": {
      "needs_background": "light"
     },
     "output_type": "display_data"
    }
   ],
   "source": [
    "df_proDevel['JobSatisfaction'].groupby(df_proDevel['YearsCodedJobInt']).mean().plot(title='JobSatisfaction and coded years').set_ylabel('JobSatisfaction');"
   ]
  },
  {
   "cell_type": "code",
   "execution_count": 133,
   "metadata": {},
   "outputs": [
    {
     "data": {
      "image/png": "[encoded data removed]",
      "text/plain": [
       "<Figure size 432x288 with 1 Axes>"
      ]
     },
     "metadata": {
      "needs_background": "light"
     },
     "output_type": "display_data"
    }
   ],
   "source": [
    "df_proDevel[df_proDevel.Country == 'China']['JobSatisfaction'].groupby(df_proDevel['YearsCodedJobInt']).mean().plot(title='JobSatisfaction and coded years in China').set_ylabel('JobSatisfaction');"
   ]
  },
  {
   "cell_type": "markdown",
   "metadata": {},
   "source": [
    "Findings: In the world, salary \\ career satisfaction\\ job satisfaction is increasing with coded years . However, salary \\ career satisfaction\\ job satisfaction is not increasing with coded years in China.So, the answer is “No” in the world;The answer is “YES” in china."
   ]
  },
  {
   "cell_type": "markdown",
   "metadata": {},
   "source": [
    "3. How well can we predict Profesional situaction?"
   ]
  },
  {
   "cell_type": "code",
   "execution_count": 21,
   "metadata": {},
   "outputs": [],
   "source": [
    "# Reference https://ramhiser.com/post/2018-04-16-building-scikit-learn-pipeline-with-pandas-dataframe/\n",
    "\n",
    "# class ColumnSelector(BaseEstimator, TransformerMixin):\n",
    "#     def __init__(self, columns):\n",
    "#         self.columns = columns\n",
    "\n",
    "#     def fit(self, X, y=None):\n",
    "#         return self\n",
    "\n",
    "#     def transform(self, X):\n",
    "#         assert isinstance(X, pd.DataFrame)\n",
    "\n",
    "#         try:\n",
    "#             return X[self.columns]\n",
    "#         except KeyError:\n",
    "#             cols_error = list(set(self.columns) - set(X.columns))\n",
    "#             raise KeyError(\"The DataFrame does not include the columns: %s\" % cols_error)\n",
    "\n",
    "\n",
    "class TypeSelector(BaseEstimator, TransformerMixin):\n",
    "    def __init__(self, dtype):\n",
    "        self.dtype = dtype\n",
    "\n",
    "    def fit(self, X, y=None):\n",
    "        return self\n",
    "\n",
    "    def transform(self, X):\n",
    "        assert isinstance(X, pd.DataFrame)\n",
    "        return X.select_dtypes(include=[self.dtype])"
   ]
  },
  {
   "cell_type": "code",
   "execution_count": 22,
   "metadata": {},
   "outputs": [],
   "source": [
    "def build_model():\n",
    "    preprocess_pipeline = make_pipeline(\n",
    "        FeatureUnion(transformer_list=[\n",
    "            #Fillnan for categorical(object) type data with most frequent and ordinal encode them.\n",
    "            (\"categorical_features\", make_pipeline(\n",
    "                TypeSelector(\"object\"),\n",
    "                SimpleImputer(strategy=\"most_frequent\"),\n",
    "                OrdinalEncoder()\n",
    "            )),\n",
    "            #Fillnan for numberic type data with mean and standard scale.\n",
    "            (\"numeric_features\", make_pipeline(\n",
    "                TypeSelector(\"number\"),\n",
    "                SimpleImputer(strategy=\"mean\"),\n",
    "                StandardScaler()\n",
    "            ))\n",
    "        ])\n",
    "    )\n",
    "    classifier_pipeline = make_pipeline(\n",
    "        preprocess_pipeline,\n",
    "        RandomForestClassifier()\n",
    "    )\n",
    "    \n",
    "    # specify parameters for grid search\n",
    "    parameters = {\n",
    "        \"randomforestclassifier__min_samples_leaf\":(10, 100, 1000),\n",
    "        \"randomforestclassifier__n_estimators\":[10, 100, 1000],\n",
    "        \"randomforestclassifier__warm_start\":(True, False)\n",
    "\n",
    "    }\n",
    "\n",
    "    # create grid search object\n",
    "    cv = GridSearchCV(classifier_pipeline, param_grid=parameters, cv=5, error_score='raise')\n",
    "    \n",
    "    return cv"
   ]
  },
  {
   "cell_type": "code",
   "execution_count": 23,
   "metadata": {},
   "outputs": [],
   "source": [
    "def load_data():\n",
    "    df = pd.read_csv('survey_results_public.csv')\n",
    "    X = df.drop(['Professional'], axis=1)\n",
    "    X = infrequence_to_nan(X, 20)\n",
    "    y = df.Professional\n",
    "    return X, y "
   ]
  },
  {
   "cell_type": "code",
   "execution_count": 24,
   "metadata": {},
   "outputs": [],
   "source": [
    "def infrequence_to_nan(df, thres=10):\n",
    "    threshold = thres\n",
    "    cat_columns = df.select_dtypes(include=['object']).columns\n",
    "    for column in cat_columns:\n",
    "        value_count = df.select_dtypes(include=['object'])[column].value_counts()\n",
    "        to_move = value_count[value_count <= threshold]\n",
    "        df[column].isin(to_move.index)\n",
    "        df[column].mask(df[column].isin(to_move.index),inplace=True)\n",
    "    return df"
   ]
  },
  {
   "cell_type": "code",
   "execution_count": 31,
   "metadata": {},
   "outputs": [],
   "source": [
    "def display_results(cv, y_test, y_pred):\n",
    "    labels = np.unique(y_pred)\n",
    "    confusion_mat = confusion_matrix(y_test, y_pred, labels=labels)\n",
    "    balanced_accuracy = balanced_accuracy_score(y_test, y_pred)\n",
    "    corrcoef = matthews_corrcoef(y_test, y_pred)\n",
    "    #importances = cv.best_estimator_.steps[\"pipeline\"].feature_importances_\n",
    "\n",
    "    print(\"Labels:\", labels)\n",
    "    print(\"Confusion Matrix:\\n\", confusion_mat)\n",
    "    print(\"Balanced_accuracy_score:\\n\", balanced_accuracy)\n",
    "    print(\"\\nMatthews_corrcoef:\", corrcoef)\n",
    "    print(\"\\nBest Parameters:\", cv.best_params_)\n",
    "    "
   ]
  },
  {
   "cell_type": "code",
   "execution_count": 32,
   "metadata": {
    "scrolled": true
   },
   "outputs": [
    {
     "name": "stdout",
     "output_type": "stream",
     "text": [
      "{'steps': [('pipeline', Pipeline(memory=None,\n",
      "         steps=[('featureunion',\n",
      "                 FeatureUnion(n_jobs=None,\n",
      "                              transformer_list=[('categorical_features',\n",
      "                                                 Pipeline(memory=None,\n",
      "                                                          steps=[('typeselector',\n",
      "                                                                  TypeSelector(dtype='object')),\n",
      "                                                                 ('simpleimputer',\n",
      "                                                                  SimpleImputer(add_indicator=False,\n",
      "                                                                                copy=True,\n",
      "                                                                                fill_value=None,\n",
      "                                                                                missing_values=nan,\n",
      "                                                                                strategy='most_frequent',\n",
      "                                                                                verbose=0)),\n",
      "                                                                 ('ordinalencoder',\n",
      "                                                                  OrdinalEncoder...\n",
      "                                                ('numeric_features',\n",
      "                                                 Pipeline(memory=None,\n",
      "                                                          steps=[('typeselector',\n",
      "                                                                  TypeSelector(dtype='number')),\n",
      "                                                                 ('simpleimputer',\n",
      "                                                                  SimpleImputer(add_indicator=False,\n",
      "                                                                                copy=True,\n",
      "                                                                                fill_value=None,\n",
      "                                                                                missing_values=nan,\n",
      "                                                                                strategy='median',\n",
      "                                                                                verbose=0)),\n",
      "                                                                 ('standardscaler',\n",
      "                                                                  StandardScaler(copy=True,\n",
      "                                                                                 with_mean=True,\n",
      "                                                                                 with_std=True))],\n",
      "                                                          verbose=False))],\n",
      "                              transformer_weights=None, verbose=False))],\n",
      "         verbose=False)), ('randomforestclassifier', RandomForestClassifier(bootstrap=True, class_weight=None, criterion='gini',\n",
      "                       max_depth=None, max_features='auto', max_leaf_nodes=None,\n",
      "                       min_impurity_decrease=0.0, min_impurity_split=None,\n",
      "                       min_samples_leaf=10, min_samples_split=2,\n",
      "                       min_weight_fraction_leaf=0.0, n_estimators=10,\n",
      "                       n_jobs=None, oob_score=False, random_state=None,\n",
      "                       verbose=0, warm_start=True))], 'memory': None, 'verbose': False}\n",
      "Labels: ['None of these' 'Professional developer'\n",
      " 'Professional non-developer who sometimes writes code' 'Student'\n",
      " 'Used to be a professional developer']\n",
      "Confusion Matrix:\n",
      " [[  135     7     0   115     0]\n",
      " [    8 10856     3    27     0]\n",
      " [   14   554   905    27     0]\n",
      " [    0     8     0  2488     0]\n",
      " [    0    20     0     8   243]]\n",
      "Balanced_accuracy_score:\n",
      " 0.8037221684184448\n",
      "\n",
      "Matthews_corrcoef: 0.888075609802181\n",
      "\n",
      "Best Parameters: {'randomforestclassifier__min_samples_leaf': 10, 'randomforestclassifier__n_estimators': 10, 'randomforestclassifier__warm_start': True}\n"
     ]
    }
   ],
   "source": [
    "def main():\n",
    "    X, y = load_data()\n",
    "\n",
    "    X_train, X_test, y_train, y_test = train_test_split(X, y, test_size=0.3)\n",
    "    \n",
    "    model = build_model()\n",
    "    \n",
    "    model.fit(X_train, y_train)\n",
    "    \n",
    "    y_pred = model.predict(X_test)\n",
    "    \n",
    "    display_results(model, y_test, y_pred)\n",
    "\n",
    "\n",
    "main() "
   ]
  },
  {
   "cell_type": "markdown",
   "metadata": {},
   "source": [
    "4.What are the most popular languages among professional developer?"
   ]
  },
  {
   "cell_type": "code",
   "execution_count": 49,
   "metadata": {},
   "outputs": [],
   "source": [
    "# Reference  https://www.kaggle.com/acassidy0982/a-look-into-the-career-of-data-science\n",
    "flatten = lambda l: [item for sublist in l for item in sublist]  ## takes a list(list) -> list\n",
    "\n",
    "def createDummies(column, _data):\n",
    "    _data[column].fillna(\"\", inplace=True)\n",
    "    uniqueVals = set(flatten(list(map(lambda str: str.split(\"; \"),\n",
    "                                      list(_data[column].unique())))))\n",
    "    uniqueVals.remove(\"\")\n",
    "\n",
    "    _dummies = pd.DataFrame(0, index=_data.index, columns=uniqueVals)\n",
    "    for dummyCol in _dummies.columns:\n",
    "        dummies = _data[column].map(lambda row: dummyCol in row)\n",
    "        _dummies[dummyCol] = dummies\n",
    "\n",
    "    return _dummies, uniqueVals"
   ]
  },
  {
   "cell_type": "code",
   "execution_count": 50,
   "metadata": {},
   "outputs": [],
   "source": [
    "dummies, uniqueVals = createDummies('HaveWorkedLanguage', df_proDevel)"
   ]
  },
  {
   "cell_type": "code",
   "execution_count": 59,
   "metadata": {},
   "outputs": [
    {
     "data": {
      "text/html": [
       "<div>\n",
       "<style scoped>\n",
       "    .dataframe tbody tr th:only-of-type {\n",
       "        vertical-align: middle;\n",
       "    }\n",
       "\n",
       "    .dataframe tbody tr th {\n",
       "        vertical-align: top;\n",
       "    }\n",
       "\n",
       "    .dataframe thead th {\n",
       "        text-align: right;\n",
       "    }\n",
       "</style>\n",
       "<table border=\"1\" class=\"dataframe\">\n",
       "  <thead>\n",
       "    <tr style=\"text-align: right;\">\n",
       "      <th></th>\n",
       "      <th>% Professional developer reported working with the language in 2017</th>\n",
       "    </tr>\n",
       "  </thead>\n",
       "  <tbody>\n",
       "    <tr>\n",
       "      <td>Java</td>\n",
       "      <td>54.773116</td>\n",
       "    </tr>\n",
       "    <tr>\n",
       "      <td>JavaScript</td>\n",
       "      <td>44.510819</td>\n",
       "    </tr>\n",
       "    <tr>\n",
       "      <td>C</td>\n",
       "      <td>41.199019</td>\n",
       "    </tr>\n",
       "    <tr>\n",
       "      <td>SQL</td>\n",
       "      <td>36.492061</td>\n",
       "    </tr>\n",
       "    <tr>\n",
       "      <td>C#</td>\n",
       "      <td>24.276152</td>\n",
       "    </tr>\n",
       "    <tr>\n",
       "      <td>Python</td>\n",
       "      <td>22.773973</td>\n",
       "    </tr>\n",
       "    <tr>\n",
       "      <td>PHP</td>\n",
       "      <td>20.022572</td>\n",
       "    </tr>\n",
       "    <tr>\n",
       "      <td>C++</td>\n",
       "      <td>15.868229</td>\n",
       "    </tr>\n",
       "    <tr>\n",
       "      <td>R</td>\n",
       "      <td>9.828378</td>\n",
       "    </tr>\n",
       "    <tr>\n",
       "      <td>TypeScript</td>\n",
       "      <td>6.787049</td>\n",
       "    </tr>\n",
       "    <tr>\n",
       "      <td>Ruby</td>\n",
       "      <td>6.467933</td>\n",
       "    </tr>\n",
       "    <tr>\n",
       "      <td>Swift</td>\n",
       "      <td>4.607721</td>\n",
       "    </tr>\n",
       "    <tr>\n",
       "      <td>Objective-C</td>\n",
       "      <td>4.570750</td>\n",
       "    </tr>\n",
       "    <tr>\n",
       "      <td>VB.NET</td>\n",
       "      <td>4.422867</td>\n",
       "    </tr>\n",
       "    <tr>\n",
       "      <td>Assembly</td>\n",
       "      <td>3.547245</td>\n",
       "    </tr>\n",
       "    <tr>\n",
       "      <td>Perl</td>\n",
       "      <td>3.084138</td>\n",
       "    </tr>\n",
       "    <tr>\n",
       "      <td>VBA</td>\n",
       "      <td>3.062733</td>\n",
       "    </tr>\n",
       "    <tr>\n",
       "      <td>Matlab</td>\n",
       "      <td>3.053004</td>\n",
       "    </tr>\n",
       "    <tr>\n",
       "      <td>Go</td>\n",
       "      <td>3.029654</td>\n",
       "    </tr>\n",
       "    <tr>\n",
       "      <td>Scala</td>\n",
       "      <td>2.547089</td>\n",
       "    </tr>\n",
       "    <tr>\n",
       "      <td>Groovy</td>\n",
       "      <td>2.321373</td>\n",
       "    </tr>\n",
       "    <tr>\n",
       "      <td>CoffeeScript</td>\n",
       "      <td>2.319427</td>\n",
       "    </tr>\n",
       "    <tr>\n",
       "      <td>Visual Basic 6</td>\n",
       "      <td>2.083982</td>\n",
       "    </tr>\n",
       "    <tr>\n",
       "      <td>Lua</td>\n",
       "      <td>2.021715</td>\n",
       "    </tr>\n",
       "    <tr>\n",
       "      <td>Haskell</td>\n",
       "      <td>1.262842</td>\n",
       "    </tr>\n",
       "    <tr>\n",
       "      <td>F#</td>\n",
       "      <td>0.889243</td>\n",
       "    </tr>\n",
       "    <tr>\n",
       "      <td>Rust</td>\n",
       "      <td>0.809465</td>\n",
       "    </tr>\n",
       "    <tr>\n",
       "      <td>Clojure</td>\n",
       "      <td>0.760819</td>\n",
       "    </tr>\n",
       "    <tr>\n",
       "      <td>Elixir</td>\n",
       "      <td>0.739415</td>\n",
       "    </tr>\n",
       "    <tr>\n",
       "      <td>Smalltalk</td>\n",
       "      <td>0.636286</td>\n",
       "    </tr>\n",
       "    <tr>\n",
       "      <td>Erlang</td>\n",
       "      <td>0.546778</td>\n",
       "    </tr>\n",
       "    <tr>\n",
       "      <td>Common Lisp</td>\n",
       "      <td>0.531211</td>\n",
       "    </tr>\n",
       "    <tr>\n",
       "      <td>Dart</td>\n",
       "      <td>0.282145</td>\n",
       "    </tr>\n",
       "    <tr>\n",
       "      <td>Julia</td>\n",
       "      <td>0.268524</td>\n",
       "    </tr>\n",
       "    <tr>\n",
       "      <td>Hack</td>\n",
       "      <td>0.208204</td>\n",
       "    </tr>\n",
       "  </tbody>\n",
       "</table>\n",
       "</div>"
      ],
      "text/plain": [
       "                % Professional developer reported working with the language in 2017\n",
       "Java                                                    54.773116                  \n",
       "JavaScript                                              44.510819                  \n",
       "C                                                       41.199019                  \n",
       "SQL                                                     36.492061                  \n",
       "C#                                                      24.276152                  \n",
       "Python                                                  22.773973                  \n",
       "PHP                                                     20.022572                  \n",
       "C++                                                     15.868229                  \n",
       "R                                                        9.828378                  \n",
       "TypeScript                                               6.787049                  \n",
       "Ruby                                                     6.467933                  \n",
       "Swift                                                    4.607721                  \n",
       "Objective-C                                              4.570750                  \n",
       "VB.NET                                                   4.422867                  \n",
       "Assembly                                                 3.547245                  \n",
       "Perl                                                     3.084138                  \n",
       "VBA                                                      3.062733                  \n",
       "Matlab                                                   3.053004                  \n",
       "Go                                                       3.029654                  \n",
       "Scala                                                    2.547089                  \n",
       "Groovy                                                   2.321373                  \n",
       "CoffeeScript                                             2.319427                  \n",
       "Visual Basic 6                                           2.083982                  \n",
       "Lua                                                      2.021715                  \n",
       "Haskell                                                  1.262842                  \n",
       "F#                                                       0.889243                  \n",
       "Rust                                                     0.809465                  \n",
       "Clojure                                                  0.760819                  \n",
       "Elixir                                                   0.739415                  \n",
       "Smalltalk                                                0.636286                  \n",
       "Erlang                                                   0.546778                  \n",
       "Common Lisp                                              0.531211                  \n",
       "Dart                                                     0.282145                  \n",
       "Julia                                                    0.268524                  \n",
       "Hack                                                     0.208204                  "
      ]
     },
     "execution_count": 59,
     "metadata": {},
     "output_type": "execute_result"
    }
   ],
   "source": [
    "proDevel_lang = (dummies.sum(0).sort_values(ascending=False) / len(dummies) * 100.).to_frame()\n",
    "proDevel_lang.columns = [\"% Professional developer reported working with the language in 2017\"]\n",
    "proDevel_lang"
   ]
  },
  {
   "cell_type": "code",
   "execution_count": 57,
   "metadata": {},
   "outputs": [],
   "source": [
    "all_dummies, uniqueVals = createDummies('HaveWorkedLanguage', df_public)"
   ]
  },
  {
   "cell_type": "code",
   "execution_count": 61,
   "metadata": {},
   "outputs": [
    {
     "data": {
      "text/html": [
       "<div>\n",
       "<style scoped>\n",
       "    .dataframe tbody tr th:only-of-type {\n",
       "        vertical-align: middle;\n",
       "    }\n",
       "\n",
       "    .dataframe tbody tr th {\n",
       "        vertical-align: top;\n",
       "    }\n",
       "\n",
       "    .dataframe thead th {\n",
       "        text-align: right;\n",
       "    }\n",
       "</style>\n",
       "<table border=\"1\" class=\"dataframe\">\n",
       "  <thead>\n",
       "    <tr style=\"text-align: right;\">\n",
       "      <th></th>\n",
       "      <th>% All users reported working with the language in 2017</th>\n",
       "    </tr>\n",
       "  </thead>\n",
       "  <tbody>\n",
       "    <tr>\n",
       "      <td>Java</td>\n",
       "      <td>54.773116</td>\n",
       "    </tr>\n",
       "    <tr>\n",
       "      <td>JavaScript</td>\n",
       "      <td>44.510819</td>\n",
       "    </tr>\n",
       "    <tr>\n",
       "      <td>C</td>\n",
       "      <td>41.199019</td>\n",
       "    </tr>\n",
       "    <tr>\n",
       "      <td>SQL</td>\n",
       "      <td>36.492061</td>\n",
       "    </tr>\n",
       "    <tr>\n",
       "      <td>C#</td>\n",
       "      <td>24.276152</td>\n",
       "    </tr>\n",
       "    <tr>\n",
       "      <td>Python</td>\n",
       "      <td>22.773973</td>\n",
       "    </tr>\n",
       "    <tr>\n",
       "      <td>PHP</td>\n",
       "      <td>20.022572</td>\n",
       "    </tr>\n",
       "    <tr>\n",
       "      <td>C++</td>\n",
       "      <td>15.868229</td>\n",
       "    </tr>\n",
       "    <tr>\n",
       "      <td>R</td>\n",
       "      <td>9.828378</td>\n",
       "    </tr>\n",
       "    <tr>\n",
       "      <td>TypeScript</td>\n",
       "      <td>6.787049</td>\n",
       "    </tr>\n",
       "    <tr>\n",
       "      <td>Ruby</td>\n",
       "      <td>6.467933</td>\n",
       "    </tr>\n",
       "    <tr>\n",
       "      <td>Swift</td>\n",
       "      <td>4.607721</td>\n",
       "    </tr>\n",
       "    <tr>\n",
       "      <td>Objective-C</td>\n",
       "      <td>4.570750</td>\n",
       "    </tr>\n",
       "    <tr>\n",
       "      <td>VB.NET</td>\n",
       "      <td>4.422867</td>\n",
       "    </tr>\n",
       "    <tr>\n",
       "      <td>Assembly</td>\n",
       "      <td>3.547245</td>\n",
       "    </tr>\n",
       "    <tr>\n",
       "      <td>Perl</td>\n",
       "      <td>3.084138</td>\n",
       "    </tr>\n",
       "    <tr>\n",
       "      <td>VBA</td>\n",
       "      <td>3.062733</td>\n",
       "    </tr>\n",
       "    <tr>\n",
       "      <td>Matlab</td>\n",
       "      <td>3.053004</td>\n",
       "    </tr>\n",
       "    <tr>\n",
       "      <td>Go</td>\n",
       "      <td>3.029654</td>\n",
       "    </tr>\n",
       "    <tr>\n",
       "      <td>Scala</td>\n",
       "      <td>2.547089</td>\n",
       "    </tr>\n",
       "    <tr>\n",
       "      <td>Groovy</td>\n",
       "      <td>2.321373</td>\n",
       "    </tr>\n",
       "    <tr>\n",
       "      <td>CoffeeScript</td>\n",
       "      <td>2.319427</td>\n",
       "    </tr>\n",
       "    <tr>\n",
       "      <td>Visual Basic 6</td>\n",
       "      <td>2.083982</td>\n",
       "    </tr>\n",
       "    <tr>\n",
       "      <td>Lua</td>\n",
       "      <td>2.021715</td>\n",
       "    </tr>\n",
       "    <tr>\n",
       "      <td>Haskell</td>\n",
       "      <td>1.262842</td>\n",
       "    </tr>\n",
       "    <tr>\n",
       "      <td>F#</td>\n",
       "      <td>0.889243</td>\n",
       "    </tr>\n",
       "    <tr>\n",
       "      <td>Rust</td>\n",
       "      <td>0.809465</td>\n",
       "    </tr>\n",
       "    <tr>\n",
       "      <td>Clojure</td>\n",
       "      <td>0.760819</td>\n",
       "    </tr>\n",
       "    <tr>\n",
       "      <td>Elixir</td>\n",
       "      <td>0.739415</td>\n",
       "    </tr>\n",
       "    <tr>\n",
       "      <td>Smalltalk</td>\n",
       "      <td>0.636286</td>\n",
       "    </tr>\n",
       "    <tr>\n",
       "      <td>Erlang</td>\n",
       "      <td>0.546778</td>\n",
       "    </tr>\n",
       "    <tr>\n",
       "      <td>Common Lisp</td>\n",
       "      <td>0.531211</td>\n",
       "    </tr>\n",
       "    <tr>\n",
       "      <td>Dart</td>\n",
       "      <td>0.282145</td>\n",
       "    </tr>\n",
       "    <tr>\n",
       "      <td>Julia</td>\n",
       "      <td>0.268524</td>\n",
       "    </tr>\n",
       "    <tr>\n",
       "      <td>Hack</td>\n",
       "      <td>0.208204</td>\n",
       "    </tr>\n",
       "  </tbody>\n",
       "</table>\n",
       "</div>"
      ],
      "text/plain": [
       "                % All users reported working with the language in 2017\n",
       "Java                                                    54.773116     \n",
       "JavaScript                                              44.510819     \n",
       "C                                                       41.199019     \n",
       "SQL                                                     36.492061     \n",
       "C#                                                      24.276152     \n",
       "Python                                                  22.773973     \n",
       "PHP                                                     20.022572     \n",
       "C++                                                     15.868229     \n",
       "R                                                        9.828378     \n",
       "TypeScript                                               6.787049     \n",
       "Ruby                                                     6.467933     \n",
       "Swift                                                    4.607721     \n",
       "Objective-C                                              4.570750     \n",
       "VB.NET                                                   4.422867     \n",
       "Assembly                                                 3.547245     \n",
       "Perl                                                     3.084138     \n",
       "VBA                                                      3.062733     \n",
       "Matlab                                                   3.053004     \n",
       "Go                                                       3.029654     \n",
       "Scala                                                    2.547089     \n",
       "Groovy                                                   2.321373     \n",
       "CoffeeScript                                             2.319427     \n",
       "Visual Basic 6                                           2.083982     \n",
       "Lua                                                      2.021715     \n",
       "Haskell                                                  1.262842     \n",
       "F#                                                       0.889243     \n",
       "Rust                                                     0.809465     \n",
       "Clojure                                                  0.760819     \n",
       "Elixir                                                   0.739415     \n",
       "Smalltalk                                                0.636286     \n",
       "Erlang                                                   0.546778     \n",
       "Common Lisp                                              0.531211     \n",
       "Dart                                                     0.282145     \n",
       "Julia                                                    0.268524     \n",
       "Hack                                                     0.208204     "
      ]
     },
     "execution_count": 61,
     "metadata": {},
     "output_type": "execute_result"
    }
   ],
   "source": [
    "all_lang = (all_dummies.sum(0).sort_values(ascending=False) / len(all_dummies) * 100.).to_frame()\n",
    "all_lang.columns = [\"% All users reported working with the language in 2017\"]\n",
    "all_lang"
   ]
  },
  {
   "cell_type": "markdown",
   "metadata": {},
   "source": [
    " Findings:Professional developer and all users use similar languages. Java\\JavaScript\\C\\SQL\\C#\\Python\\PHP more or less increasing, using more by Professional developer."
   ]
  }
 ],
 "metadata": {
  "kernelspec": {
   "display_name": "Python 3",
   "language": "python",
   "name": "python3"
  },
  "language_info": {
   "codemirror_mode": {
    "name": "ipython",
    "version": 3
   },
   "file_extension": ".py",
   "mimetype": "text/x-python",
   "name": "python",
   "nbconvert_exporter": "python",
   "pygments_lexer": "ipython3",
   "version": "3.7.4"
  }
 },
 "nbformat": 4,
 "nbformat_minor": 2
}
